import pandas as pd
import numpy as np
from sklearn.preprocessing import OneHotEncoder, StandardScaler
from sklearn.cluster import KMeans
import matplotlib.pyplot as plt
import hvplot.pandas
import seaborn as sns

# Load the cleaned breed data
file_path = "Resources/akc-data-cleaned_2.csv"
breed_df_cleaned = pd.read_csv(file_path)

breed_df_cleaned.head()


# Define categorical and numerical columns
categorical_columns = ['grooming_frequency_category', 'shedding_category', 'energy_level_category', 
                        'trainability_category', 'demeanor_category']
numerical_columns = ['min_height', 'max_height', 'min_weight', 'max_weight', 'min_expectancy', 'max_expectancy']

# One-Hot Encode categorical features
encoder = OneHotEncoder()
encoded_categorical = encoder.fit_transform(breed_df_cleaned[categorical_columns]).toarray()
encoded_categorical_df = pd.DataFrame(encoded_categorical, columns=encoder.get_feature_names_out(categorical_columns))

# Normalize numerical features
scaler = StandardScaler()
scaled_numerical = scaler.fit_transform(breed_df_cleaned[numerical_columns])
scaled_numerical_df = pd.DataFrame(scaled_numerical, columns=numerical_columns)


# Combine processed features
processed_df = pd.concat([encoded_categorical_df, scaled_numerical_df], axis=1)

# Store breed names separately
breed_names = breed_df_cleaned['Dog Breed']



# Preview processed_df holding scaled data
processed_df.head()


# Find optimal k using the Elbow Method
inertia = []
k_values = range(1, 11)  # Testing values from 2 to 14 clusters

for k in k_values:
    kmeans = KMeans(n_clusters=k, random_state=42, n_init=10)
    kmeans.fit(processed_df)
    inertia.append(kmeans.inertia_)
print(inertia)


# Create a dictionary with the data to plot the Elbow curve
elbow_data = {"k": k_values, "inertia": inertia}


# Create a DataFrame with the data to plot the Elbow curve
df_elbow = pd.DataFrame(elbow_data)
df_elbow.head()


# Plot a line chart with all the inertia values computed with
# the different values of k to visually identify the optimal value for k.
breed_elbow = df_elbow.hvplot.line(
    x="k", 
    y="inertia", 
    title="Elbow Curve", 
    xticks=k
)
breed_elbow


# Initialize the K-Means model using the best value for k (k=3)
model = KMeans(n_clusters=3, random_state=42, n_init=10)
breed_clusters = model.fit_predict(processed_df)
breed_clusters


# Create a copy of the scaled DataFrame
predicted_df = processed_df.copy()

# Add a new column to the copy of the scaled DataFrame with the predicted clusters
predicted_df['k3_Clusters'] = breed_clusters

# Display the copy of the scaled DataFrame

predicted_df.head()


# Create a scatter plot using hvPlot
scatter_plot = predicted_df.hvplot.scatter(
    x="min_weight",  # Feature for x-axis
    y="max_height",  # Feature for y-axis
    by="k3_Clusters",  # Color points by cluster
    hover_cols=["Dog Breed"],  # Show breed name on hover
    title="Dog Breed Clusters by Height and Weight",
    size=100,
    alpha=0.7,
    colormap="Category10"
)

scatter_plot







