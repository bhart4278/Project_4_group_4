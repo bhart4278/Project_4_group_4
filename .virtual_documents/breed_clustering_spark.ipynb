from flask import Flask, request, render_template
import pandas as pd
from sklearn.preprocessing import LabelEncoder
from sklearn.ensemble import RandomForestClassifier


import pandas as pd
import numpy as np
from sklearn.preprocessing import OneHotEncoder, StandardScaler
from sklearn.cluster import KMeans
import matplotlib.pyplot as plt
import hvplot.pandas
import seaborn as sns

app = Flask(__name__)

# Load the cleaned breed data
file_path = "Resources/akc-data-cleaned_2.csv"
data = pd.read_csv(file_path)

data.head()


# Encode categorical variables
label_encoders = {}
for col in data.columns[1:]:
    le = LabelEncoder()
    data[col] = le.fit_transform(data[col])
    label_encoders[col] = le

# Define features and target variable
X = data.drop(columns=["Dog Breed"])
y = data["Dog Breed"]

# Train Random Forest Classifier
rf_model = RandomForestClassifier(n_estimators=100, random_state=42)
rf_model.fit(X, y)

@app.route('/', methods=['GET', 'POST'])
def predict_breed():
    if request.method == 'POST':
        user_input = {
            "grooming_frequency_category": request.form["grooming"],
            "shedding_category": request.form["shedding"],
            "energy_level_category": request.form["energy"],
            "trainability_category": request.form["trainability"],
            "demeanor_category": request.form["demeanor"]
        }
        
        # Encode user input
        user_vector = []
        for col, value in user_input.items():
            user_vector.append(label_encoders[col].transform([value])[0])
        
        # Convert input into a DataFrame for prediction
        user_df = pd.DataFrame([user_vector], columns=X.columns)
        
        # Predict the best dog breed
        predicted_breed = rf_model.predict(user_df)[0]
        
        return render_template('index.html', prediction_text=f"The best-matching dog breed for you is: {predicted_breed}")
    
    return render_template('index.html', prediction_text=None)

if __name__ == '__main__':
    app.run(debug=True)






